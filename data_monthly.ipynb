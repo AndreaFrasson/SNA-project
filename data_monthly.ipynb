{
 "cells": [
  {
   "cell_type": "code",
   "execution_count": 1,
   "metadata": {},
   "outputs": [],
   "source": [
    "from SPARQLWrapper import SPARQLWrapper, JSON\n",
    "from datetime import datetime\n",
    "import pandas as pd\n",
    "import numpy as np"
   ]
  },
  {
   "attachments": {},
   "cell_type": "markdown",
   "metadata": {},
   "source": [
    "connect to db"
   ]
  },
  {
   "cell_type": "code",
   "execution_count": 2,
   "metadata": {},
   "outputs": [],
   "source": [
    "sparql = SPARQLWrapper('https://dati.camera.it/sparql')"
   ]
  },
  {
   "attachments": {},
   "cell_type": "markdown",
   "metadata": {},
   "source": [
    "Create dataframe of the deputati from a legislation"
   ]
  },
  {
   "cell_type": "code",
   "execution_count": 3,
   "metadata": {},
   "outputs": [],
   "source": [
    "dep = pd.read_csv('data/18esima_Leg/dep_18.csv')[['persona', 'nomeGruppo', 'nome', 'cognome']]\n",
    "a = dep['cognome']+ ' ' + dep['nome']\n",
    "dep['Parlamentare'] = a\n",
    "dep.drop(['nome', 'cognome'], axis = 1, inplace= True)\n",
    "\n",
    "a = []\n",
    "for i in range(dep.shape[0]):\n",
    "    a.append(dep['persona'][i][39:])\n",
    "\n",
    "dep['id'] = a\n",
    "dep.drop('persona', inplace= True, axis = 1)\n",
    "\n",
    "p = []\n",
    "dat = []\n",
    "for i in dep['nomeGruppo']:\n",
    "    e = i.split()\n",
    "    p.append(e[-2][1:-1])\n",
    "    d = e[-1].replace(')', '')\n",
    "    dat.append(datetime.strptime(d[-10:], '%d.%m.%Y'))\n",
    "\n",
    "dep['Partito'] = p\n",
    "dep['dataIngresso'] = dat\n",
    "dep.drop('nomeGruppo', axis = 1, inplace= True)\n",
    "\n",
    "first_df = pd.DataFrame(columns= dep.columns)\n",
    "\n",
    "for i in np.unique(dep['id']):\n",
    "    if len(dep[dep['id'] == i]) < 2:\n",
    "        first_df = pd.concat([first_df, dep[dep['id'] == i]])\n",
    "    else:\n",
    "        duplicate = dep[dep['id'] == i]\n",
    "        first_df = pd.concat([first_df, duplicate.head(1)])\n"
   ]
  },
  {
   "cell_type": "code",
   "execution_count": 5,
   "metadata": {},
   "outputs": [],
   "source": [
    "sparql.setReturnFormat(JSON)\n",
    "\n",
    "leg = 18\n",
    "\n",
    "# deputati of a specific legislation\n",
    "for m in range(1,13):\n",
    "   final_df = first_df.copy()\n",
    "   month = f'{m:02d}'\n",
    "   for d in range(1,32):\n",
    "      day = f'{d:02d}'\n",
    "      sparql.setQuery(\"\"\"\n",
    "      select distinct ?votazione ?data ?titolo ?numeroVotazione ?cognome ?nome ?espressione ?infoAssenza ?deputato where {\n",
    "      ?votazione a ocd:votazione;\n",
    "         dc:date '\"\"\"+'2021'+month+day+\"\"\"';\n",
    "         dc:date ?data;\n",
    "         rdfs:label ?titolo;\n",
    "         dc:description ?descrizione;\n",
    "         dc:identifier ?numeroVotazione.\n",
    "\n",
    "\n",
    "      ## voti espressi\n",
    "      ?voto a ocd:voto;\n",
    "         ocd:rif_votazione ?votazione;\n",
    "         dc:type ?espressione;\n",
    "         ocd:rif_deputato ?deputato.\n",
    "      OPTIONAL{?voto dc:description ?infoAssenza}\n",
    "\n",
    "\n",
    "      ## info deputato\n",
    "      ?deputato foaf:surname ?cognome; foaf:firstName ?nome  \n",
    "\n",
    "\n",
    "      } ORDER BY ?cognome\n",
    "      \n",
    "      \"\"\"\n",
    "      )\n",
    "      try:\n",
    "         ret = sparql.queryAndConvert()\n",
    "         res = ret[\"results\"][\"bindings\"]\n",
    "      except Exception as e:\n",
    "         print(e)\n",
    "\n",
    "      dep = []\n",
    "      vot = []\n",
    "      numero = []\n",
    "      for i in res:\n",
    "         dep.append((i.get('deputato')).get('value')[40:46])\n",
    "         vot.append((i.get('espressione')).get('value'))\n",
    "         numero.append((i.get('numeroVotazione')).get('value'))\n",
    "\n",
    "      votazione = pd.DataFrame([dep,vot, numero], index = ['id', 'Voto1', 'numero']).T\n",
    "      \n",
    "      for i in list(set(votazione['numero'])):\n",
    "         espressione = votazione[votazione['numero'] == i][['id', 'Voto1']]\n",
    "         espressione.columns= ('id', i)\n",
    "         final_df = pd.merge(final_df, espressione, how = 'left')\n",
    "   \n",
    "      \n",
    "   final_df.to_csv('xvii-2021-'+month+'.csv', index=False)\n"
   ]
  },
  {
   "attachments": {},
   "cell_type": "markdown",
   "metadata": {},
   "source": [
    "# se numero NA di un parlamentare è maggiore "
   ]
  },
  {
   "cell_type": "code",
   "execution_count": 66,
   "metadata": {},
   "outputs": [],
   "source": [
    "dizionario_espressioni = {'Assente': '0', 'Favorevole': '1', 'Non ha votato': '0', 'Contrario': '-1', 'Astensione': '2', 'In missione': '0'}\n",
    "for i in final_df.columns[4:]:\n",
    "    final_df[i] = final_df[i].map(dizionario_espressioni)\n",
    "\n",
    "final_df.fillna('0', inplace= True)\n",
    "    "
   ]
  },
  {
   "cell_type": "code",
   "execution_count": 9,
   "metadata": {},
   "outputs": [],
   "source": [
    "from sklearn.metrics.pairwise import cosine_similarity"
   ]
  },
  {
   "cell_type": "code",
   "execution_count": 151,
   "metadata": {},
   "outputs": [
    {
     "data": {
      "text/plain": [
       "Index(['634001', '635005', '635022', '635019', '635017', '635003', '635002',\n",
       "       '635011', '635012', '635015',\n",
       "       ...\n",
       "       '645012', '645002', '645005', '645018', '645024', '645009', '645025',\n",
       "       '645019', '645007', '645015'],\n",
       "      dtype='object', length=160)"
      ]
     },
     "execution_count": 151,
     "metadata": {},
     "output_type": "execute_result"
    }
   ],
   "source": [
    "final_df.columns[4:]"
   ]
  },
  {
   "cell_type": "code",
   "execution_count": 78,
   "metadata": {},
   "outputs": [
    {
     "data": {
      "text/plain": [
       "(array(['0', '1'], dtype=object), array([158,   2], dtype=int64))"
      ]
     },
     "execution_count": 78,
     "metadata": {},
     "output_type": "execute_result"
    }
   ],
   "source": [
    "np.unique(final_df.iloc[236, 4:], return_counts=True)"
   ]
  },
  {
   "cell_type": "code",
   "execution_count": 35,
   "metadata": {},
   "outputs": [
    {
     "data": {
      "text/plain": [
       "array([[1.        , 0.47688809, 0.17407766, ..., 0.        , 0.        ,\n",
       "        0.        ],\n",
       "       [0.47688809, 1.        , 0.14048787, ..., 0.        , 0.        ,\n",
       "        0.        ],\n",
       "       [0.17407766, 0.14048787, 1.        , ..., 0.        , 0.        ,\n",
       "        0.        ],\n",
       "       ...,\n",
       "       [0.        , 0.        , 0.        , ..., 0.        , 0.        ,\n",
       "        0.        ],\n",
       "       [0.        , 0.        , 0.        , ..., 0.        , 0.        ,\n",
       "        0.        ],\n",
       "       [0.        , 0.        , 0.        , ..., 0.        , 0.        ,\n",
       "        0.        ]])"
      ]
     },
     "execution_count": 35,
     "metadata": {},
     "output_type": "execute_result"
    }
   ],
   "source": [
    "cosine_similarity(final_df[final_df.columns[4:]])"
   ]
  }
 ],
 "metadata": {
  "kernelspec": {
   "display_name": "Python 3",
   "language": "python",
   "name": "python3"
  },
  "language_info": {
   "codemirror_mode": {
    "name": "ipython",
    "version": 3
   },
   "file_extension": ".py",
   "mimetype": "text/x-python",
   "name": "python",
   "nbconvert_exporter": "python",
   "pygments_lexer": "ipython3",
   "version": "3.10.11"
  },
  "orig_nbformat": 4
 },
 "nbformat": 4,
 "nbformat_minor": 2
}
