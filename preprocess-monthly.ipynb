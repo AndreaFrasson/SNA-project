{
 "cells": [
  {
   "cell_type": "code",
   "execution_count": 1,
   "metadata": {},
   "outputs": [],
   "source": [
    "from SPARQLWrapper import SPARQLWrapper, JSON\n",
    "from datetime import datetime\n",
    "import pandas as pd\n",
    "import numpy as np\n",
    "import networkx as nx\n",
    "import matplotlib.pyplot as plt\n",
    "import seaborn as sns\n",
    "import statistics"
   ]
  },
  {
   "cell_type": "code",
   "execution_count": 2,
   "metadata": {},
   "outputs": [],
   "source": [
    "def similarita(voti_dep1, voti_dep2):\n",
    "    uguali = np.sum((voti_dep1 == voti_dep2) & (voti_dep1 != '0') ) # volte in cui hanno votato la stessa  ed erano entrambi presenti\n",
    "    #print(f'presenti e uguali: {uguali}')\n",
    "    #entrambi_assenti = np.sum((voti_dep1 == voti_dep2) & (voti_dep1 == 0)) # volte in cui non hanno votato entrambi\n",
    "    #print((voti_dep1))\n",
    "    #print((voti_dep2))\n",
    "    diversi = np.sum((voti_dep1 != voti_dep2) & (voti_dep1 != '0') & (voti_dep2 != '0') ) # volte in cui hanno votato diversamente ed erano entrambi presenti\n",
    "    #print((voti_dep1 == '0'))\n",
    "    #print((voti_dep2 == '0'))\n",
    "    #print(uguali,diversi)\n",
    "    #almeno_uno_dei_due_assente = np.sum((voti_dep1 == '0') | (voti_dep2 == '0'))\n",
    "    #print(f'almeno uno dei due assente: {almeno_uno_dei_due_assente}')\n",
    "\n",
    "    #sim = (uguali)/(numero_votazioni-almeno_uno_dei_due_assente)\n",
    "    \n",
    "    if uguali == 0:\n",
    "        sim = 0\n",
    "    else:\n",
    "        sim = uguali/(uguali+diversi)\n",
    "    return sim"
   ]
  },
  {
   "attachments": {},
   "cell_type": "markdown",
   "metadata": {},
   "source": [
    "# Load dataset and pre-process, dropping noise rows"
   ]
  },
  {
   "cell_type": "code",
   "execution_count": 110,
   "metadata": {},
   "outputs": [
    {
     "data": {
      "text/plain": [
       "(660, 78)"
      ]
     },
     "execution_count": 110,
     "metadata": {},
     "output_type": "execute_result"
    }
   ],
   "source": [
    "feb = pd.read_csv('data/xviii-2021-02.csv')\n",
    "feb.shape"
   ]
  },
  {
   "cell_type": "code",
   "execution_count": 117,
   "metadata": {},
   "outputs": [],
   "source": [
    "nan_count = feb.isnull().sum(axis=1)\n",
    "p = 0.33\n",
    "l = len(feb.columns[4:])\n",
    "df = feb.drop(nan_count[nan_count >= p*l].index, axis = 0)"
   ]
  },
  {
   "cell_type": "code",
   "execution_count": 118,
   "metadata": {},
   "outputs": [],
   "source": [
    "#mapping to categorical values\n",
    "dizionario_espressioni = {'Assente': '0', 'Favorevole': '1', 'Non ha votato': '2', 'Contrario': '3', 'Astensione': '4', 'In missione': '0'}\n",
    "for i in df.columns[4:]:\n",
    "    df[i] = df[i].map(dizionario_espressioni)\n",
    "\n",
    "df = df.replace(np.nan, '0')"
   ]
  },
  {
   "cell_type": "code",
   "execution_count": 119,
   "metadata": {},
   "outputs": [
    {
     "data": {
      "text/plain": [
       "(272, 78)"
      ]
     },
     "execution_count": 119,
     "metadata": {},
     "output_type": "execute_result"
    }
   ],
   "source": [
    "df.shape"
   ]
  },
  {
   "cell_type": "code",
   "execution_count": 120,
   "metadata": {},
   "outputs": [
    {
     "data": {
      "text/plain": [
       "array(['-SI', 'CI', 'FDI', 'FI', 'IPF-IC', \"IV-IC'E'\", 'LEGA', 'M5S',\n",
       "       'MISTO', 'PD'], dtype=object)"
      ]
     },
     "execution_count": 120,
     "metadata": {},
     "output_type": "execute_result"
    }
   ],
   "source": [
    "np.unique(df['Partito'])"
   ]
  },
  {
   "attachments": {},
   "cell_type": "markdown",
   "metadata": {},
   "source": [
    "# Extract party alignment for each voting"
   ]
  },
  {
   "cell_type": "code",
   "execution_count": 114,
   "metadata": {},
   "outputs": [],
   "source": [
    "#works only with dataframes like ours\n",
    "def alignment_parties(df):\n",
    "    col = df.columns[4:].to_list()\n",
    "    col.append('Partito')\n",
    "    j = 0\n",
    "    parties_alignment = pd.DataFrame()\n",
    "    party = df.groupby('Partito')\n",
    "    alignment = []\n",
    "    for i in party: # party[0] nome partito, party[1] dataframe\n",
    "        a = np.apply_along_axis(statistics.mode, axis = 0, arr= i[1])[4:].tolist()\n",
    "        a.append(i[0])\n",
    "        parties_alignment = pd.concat([parties_alignment, pd.DataFrame(a).T], axis = 0)\n",
    "\n",
    "    parties_alignment.columns = col\n",
    "    return parties_alignment\n"
   ]
  },
  {
   "cell_type": "code",
   "execution_count": 124,
   "metadata": {},
   "outputs": [
    {
     "data": {
      "text/html": [
       "<div>\n",
       "<style scoped>\n",
       "    .dataframe tbody tr th:only-of-type {\n",
       "        vertical-align: middle;\n",
       "    }\n",
       "\n",
       "    .dataframe tbody tr th {\n",
       "        vertical-align: top;\n",
       "    }\n",
       "\n",
       "    .dataframe thead th {\n",
       "        text-align: right;\n",
       "    }\n",
       "</style>\n",
       "<table border=\"1\" class=\"dataframe\">\n",
       "  <thead>\n",
       "    <tr style=\"text-align: right;\">\n",
       "      <th></th>\n",
       "      <th>459001</th>\n",
       "      <th>460009</th>\n",
       "      <th>460033</th>\n",
       "      <th>460029</th>\n",
       "      <th>460015</th>\n",
       "      <th>460024</th>\n",
       "      <th>460006</th>\n",
       "      <th>460030</th>\n",
       "      <th>460026</th>\n",
       "      <th>460032</th>\n",
       "      <th>...</th>\n",
       "      <th>461029</th>\n",
       "      <th>461030</th>\n",
       "      <th>461024</th>\n",
       "      <th>461026</th>\n",
       "      <th>461022</th>\n",
       "      <th>462002</th>\n",
       "      <th>462003</th>\n",
       "      <th>462001</th>\n",
       "      <th>462004</th>\n",
       "      <th>Partito</th>\n",
       "    </tr>\n",
       "  </thead>\n",
       "  <tbody>\n",
       "    <tr>\n",
       "      <th>0</th>\n",
       "      <td>1</td>\n",
       "      <td>3</td>\n",
       "      <td>3</td>\n",
       "      <td>3</td>\n",
       "      <td>3</td>\n",
       "      <td>2</td>\n",
       "      <td>3</td>\n",
       "      <td>3</td>\n",
       "      <td>3</td>\n",
       "      <td>3</td>\n",
       "      <td>...</td>\n",
       "      <td>3</td>\n",
       "      <td>3</td>\n",
       "      <td>3</td>\n",
       "      <td>3</td>\n",
       "      <td>3</td>\n",
       "      <td>3</td>\n",
       "      <td>3</td>\n",
       "      <td>1</td>\n",
       "      <td>1</td>\n",
       "      <td>-SI</td>\n",
       "    </tr>\n",
       "    <tr>\n",
       "      <th>0</th>\n",
       "      <td>1</td>\n",
       "      <td>2</td>\n",
       "      <td>2</td>\n",
       "      <td>2</td>\n",
       "      <td>2</td>\n",
       "      <td>2</td>\n",
       "      <td>2</td>\n",
       "      <td>2</td>\n",
       "      <td>2</td>\n",
       "      <td>2</td>\n",
       "      <td>...</td>\n",
       "      <td>2</td>\n",
       "      <td>2</td>\n",
       "      <td>2</td>\n",
       "      <td>2</td>\n",
       "      <td>2</td>\n",
       "      <td>2</td>\n",
       "      <td>2</td>\n",
       "      <td>2</td>\n",
       "      <td>2</td>\n",
       "      <td>CI</td>\n",
       "    </tr>\n",
       "    <tr>\n",
       "      <th>0</th>\n",
       "      <td>3</td>\n",
       "      <td>1</td>\n",
       "      <td>3</td>\n",
       "      <td>1</td>\n",
       "      <td>1</td>\n",
       "      <td>1</td>\n",
       "      <td>1</td>\n",
       "      <td>1</td>\n",
       "      <td>1</td>\n",
       "      <td>1</td>\n",
       "      <td>...</td>\n",
       "      <td>1</td>\n",
       "      <td>1</td>\n",
       "      <td>1</td>\n",
       "      <td>1</td>\n",
       "      <td>1</td>\n",
       "      <td>1</td>\n",
       "      <td>1</td>\n",
       "      <td>3</td>\n",
       "      <td>1</td>\n",
       "      <td>FDI</td>\n",
       "    </tr>\n",
       "    <tr>\n",
       "      <th>0</th>\n",
       "      <td>1</td>\n",
       "      <td>2</td>\n",
       "      <td>2</td>\n",
       "      <td>2</td>\n",
       "      <td>2</td>\n",
       "      <td>2</td>\n",
       "      <td>2</td>\n",
       "      <td>2</td>\n",
       "      <td>2</td>\n",
       "      <td>2</td>\n",
       "      <td>...</td>\n",
       "      <td>3</td>\n",
       "      <td>3</td>\n",
       "      <td>3</td>\n",
       "      <td>3</td>\n",
       "      <td>4</td>\n",
       "      <td>2</td>\n",
       "      <td>2</td>\n",
       "      <td>2</td>\n",
       "      <td>2</td>\n",
       "      <td>FI</td>\n",
       "    </tr>\n",
       "    <tr>\n",
       "      <th>0</th>\n",
       "      <td>1</td>\n",
       "      <td>3</td>\n",
       "      <td>3</td>\n",
       "      <td>3</td>\n",
       "      <td>3</td>\n",
       "      <td>3</td>\n",
       "      <td>3</td>\n",
       "      <td>3</td>\n",
       "      <td>3</td>\n",
       "      <td>3</td>\n",
       "      <td>...</td>\n",
       "      <td>3</td>\n",
       "      <td>3</td>\n",
       "      <td>3</td>\n",
       "      <td>3</td>\n",
       "      <td>3</td>\n",
       "      <td>3</td>\n",
       "      <td>3</td>\n",
       "      <td>1</td>\n",
       "      <td>1</td>\n",
       "      <td>IPF-IC</td>\n",
       "    </tr>\n",
       "  </tbody>\n",
       "</table>\n",
       "<p>5 rows × 75 columns</p>\n",
       "</div>"
      ],
      "text/plain": [
       "  459001 460009 460033 460029 460015 460024 460006 460030 460026 460032  ...  \\\n",
       "0      1      3      3      3      3      2      3      3      3      3  ...   \n",
       "0      1      2      2      2      2      2      2      2      2      2  ...   \n",
       "0      3      1      3      1      1      1      1      1      1      1  ...   \n",
       "0      1      2      2      2      2      2      2      2      2      2  ...   \n",
       "0      1      3      3      3      3      3      3      3      3      3  ...   \n",
       "\n",
       "  461029 461030 461024 461026 461022 462002 462003 462001 462004 Partito  \n",
       "0      3      3      3      3      3      3      3      1      1     -SI  \n",
       "0      2      2      2      2      2      2      2      2      2      CI  \n",
       "0      1      1      1      1      1      1      1      3      1     FDI  \n",
       "0      3      3      3      3      4      2      2      2      2      FI  \n",
       "0      3      3      3      3      3      3      3      1      1  IPF-IC  \n",
       "\n",
       "[5 rows x 75 columns]"
      ]
     },
     "execution_count": 124,
     "metadata": {},
     "output_type": "execute_result"
    }
   ],
   "source": [
    "alignment = alignment_parties(df)\n",
    "alignment.head()"
   ]
  },
  {
   "cell_type": "code",
   "execution_count": 125,
   "metadata": {},
   "outputs": [
    {
     "data": {
      "text/plain": [
       "(272, 78)"
      ]
     },
     "execution_count": 125,
     "metadata": {},
     "output_type": "execute_result"
    }
   ],
   "source": [
    "df.shape"
   ]
  },
  {
   "attachments": {},
   "cell_type": "markdown",
   "metadata": {},
   "source": [
    "## Partisan discipline"
   ]
  },
  {
   "cell_type": "code",
   "execution_count": 72,
   "metadata": {},
   "outputs": [],
   "source": [
    "discipline = []\n",
    "for index, row in df.iterrows():\n",
    "    p = alignment[alignment['Partito'] == row['Partito']]\n",
    "    c = 0\n",
    "    for i in p.drop('Partito', axis = 1).columns:\n",
    "        if(row[i][0] == p[i][0]):\n",
    "            c+=1\n",
    "    \n",
    "    discipline.append(c/(len(p.columns) - 1))\n",
    "\n",
    "df['discipline'] = discipline"
   ]
  },
  {
   "cell_type": "code",
   "execution_count": 73,
   "metadata": {},
   "outputs": [
    {
     "name": "stdout",
     "output_type": "stream",
     "text": [
      "0.6983306836248013 0.3285186480179389\n"
     ]
    }
   ],
   "source": [
    "print(df['discipline'].mean(), df['discipline'].std())"
   ]
  },
  {
   "attachments": {},
   "cell_type": "markdown",
   "metadata": {},
   "source": [
    "# Graph based on similarity"
   ]
  },
  {
   "cell_type": "code",
   "execution_count": 53,
   "metadata": {},
   "outputs": [],
   "source": [
    "m = np.array(df[df.columns[4:df.shape[1]-1]])"
   ]
  },
  {
   "cell_type": "code",
   "execution_count": 90,
   "metadata": {},
   "outputs": [],
   "source": [
    "A = np.zeros((len(m),len(m))) #inizializzo matrice a 0\n",
    "i=0\n",
    "j=0\n",
    "s = []\n",
    "for i in range(len(m)):\n",
    "    for j in range(len(m)):\n",
    "        A[i,j] = similarita(m[i, 3:],m[j, 3:])\n",
    "        if (i>j): \n",
    "            s.append(similarita(m[i, 3:],m[j, 3:]))"
   ]
  },
  {
   "cell_type": "code",
   "execution_count": 75,
   "metadata": {},
   "outputs": [],
   "source": [
    "from sklearn.metrics import jaccard_score"
   ]
  },
  {
   "cell_type": "code",
   "execution_count": 82,
   "metadata": {},
   "outputs": [],
   "source": [
    "num_rows = df.shape[0]\n",
    "weights = np.zeros((num_rows, num_rows))\n",
    "\n",
    "for i in range(num_rows):\n",
    "    for j in range(i+1, num_rows):\n",
    "        row1 = df.iloc[i, 4:df.shape[1]-1]\n",
    "        row2 = df.iloc[j, 4:df.shape[1]-1]\n",
    "        similarity = jaccard_score(row1, row2, average='weighted')\n",
    "        weights[i, j] = similarity\n",
    "        weights[j, i] = similarity"
   ]
  },
  {
   "cell_type": "code",
   "execution_count": 86,
   "metadata": {},
   "outputs": [
    {
     "name": "stdout",
     "output_type": "stream",
     "text": [
      "[[0.         0.79115479 0.67993336 ... 0.03378378 0.03331601 0.01391097]\n",
      " [0.79115479 0.         0.47630507 ... 0.10135135 0.09797297 0.01391097]\n",
      " [0.67993336 0.47630507 0.         ... 0.0152027  0.0019305  0.01351351]\n",
      " ...\n",
      " [0.03378378 0.10135135 0.0152027  ... 0.         0.92053247 0.03394226]\n",
      " [0.03331601 0.09797297 0.0019305  ... 0.92053247 0.         0.03162566]\n",
      " [0.01391097 0.01391097 0.01351351 ... 0.03394226 0.03162566 0.        ]]\n"
     ]
    }
   ],
   "source": [
    "print(weights)"
   ]
  },
  {
   "cell_type": "code",
   "execution_count": 87,
   "metadata": {},
   "outputs": [],
   "source": [
    "unique_scores, counts = np.unique(weights, return_counts=True)\n",
    "distribution = dict(zip(unique_scores, counts / np.sum(counts)))"
   ]
  },
  {
   "cell_type": "code",
   "execution_count": 89,
   "metadata": {},
   "outputs": [
    {
     "data": {
      "image/png": "[encoded data removed]",
      "text/plain": [
       "<Figure size 640x480 with 1 Axes>"
      ]
     },
     "metadata": {},
     "output_type": "display_data"
    }
   ],
   "source": [
    "scores = list(distribution.keys())\n",
    "probabilities = np.cumsum(list(distribution.values()))\n",
    "\n",
    "plt.plot(scores, probabilities)\n",
    "plt.xlabel('Similarity Score')\n",
    "plt.ylabel('Probability')\n",
    "plt.title('Jaccard Similarity Distribution')\n",
    "plt.show()"
   ]
  },
  {
   "cell_type": "code",
   "execution_count": 91,
   "metadata": {},
   "outputs": [],
   "source": [
    "unique_scores, counts = np.unique(A, return_counts=True)\n",
    "distribution = dict(zip(unique_scores, counts / np.sum(counts)))"
   ]
  },
  {
   "cell_type": "code",
   "execution_count": 93,
   "metadata": {},
   "outputs": [
    {
     "data": {
      "image/png": "[encoded data removed]",
      "text/plain": [
       "<Figure size 640x480 with 1 Axes>"
      ]
     },
     "metadata": {},
     "output_type": "display_data"
    }
   ],
   "source": [
    "scores = list(distribution.keys())\n",
    "probabilities = np.cumsum(list(distribution.values()))\n",
    "\n",
    "plt.plot(scores, probabilities)\n",
    "plt.xlabel('Similarity Score')\n",
    "plt.ylabel('Probability')\n",
    "plt.title('Similarity Distribution')\n",
    "plt.show()"
   ]
  },
  {
   "cell_type": "code",
   "execution_count": 105,
   "metadata": {},
   "outputs": [],
   "source": [
    "num_nodes = A.shape[0]\n",
    "graph = nx.Graph()\n",
    "threshold = 0.69\n",
    "\n",
    "for i in range(num_nodes):\n",
    "    graph.add_node(i)  # Add nodes to the graph\n",
    "\n",
    "#graph = nx.from_numpy_matrix(A, create_using = nx.MultiGraph())\n",
    "\n",
    "for i in range(num_nodes):\n",
    "    for j in range(i + 1, num_nodes):\n",
    "        weight = A[i, j]\n",
    "        if np.abs(weight) >= threshold:\n",
    "            graph.add_edge(i, j)  #Add edges to the graph with weight attribute\n"
   ]
  },
  {
   "cell_type": "code",
   "execution_count": 106,
   "metadata": {},
   "outputs": [
    {
     "data": {
      "image/png": "[encoded data removed]",
      "text/plain": [
       "<Figure size 640x480 with 1 Axes>"
      ]
     },
     "metadata": {},
     "output_type": "display_data"
    }
   ],
   "source": [
    "nx.draw(graph)"
   ]
  },
  {
   "cell_type": "code",
   "execution_count": 108,
   "metadata": {},
   "outputs": [
    {
     "name": "stdout",
     "output_type": "stream",
     "text": [
      "272 14333\n"
     ]
    }
   ],
   "source": [
    "print(len(graph.nodes), len(graph.edges))"
   ]
  }
 ],
 "metadata": {
  "kernelspec": {
   "display_name": "Python 3",
   "language": "python",
   "name": "python3"
  },
  "language_info": {
   "codemirror_mode": {
    "name": "ipython",
    "version": 3
   },
   "file_extension": ".py",
   "mimetype": "text/x-python",
   "name": "python",
   "nbconvert_exporter": "python",
   "pygments_lexer": "ipython3",
   "version": "3.10.11"
  },
  "orig_nbformat": 4
 },
 "nbformat": 4,
 "nbformat_minor": 2
}
