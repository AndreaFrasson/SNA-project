{
 "cells": [
  {
   "cell_type": "code",
   "execution_count": 6,
   "metadata": {},
   "outputs": [],
   "source": [
    "from SPARQLWrapper import SPARQLWrapper, JSON\n",
    "from datetime import datetime\n",
    "import pandas as pd\n",
    "import numpy as np"
   ]
  },
  {
   "attachments": {},
   "cell_type": "markdown",
   "metadata": {},
   "source": [
    "connect to db"
   ]
  },
  {
   "cell_type": "code",
   "execution_count": 7,
   "metadata": {},
   "outputs": [],
   "source": [
    "sparql = SPARQLWrapper('https://dati.camera.it/sparql')"
   ]
  },
  {
   "attachments": {},
   "cell_type": "markdown",
   "metadata": {},
   "source": [
    "Create dataframe of the deputati from a legislation"
   ]
  },
  {
   "cell_type": "code",
   "execution_count": 8,
   "metadata": {},
   "outputs": [],
   "source": [
    "leg_num = 16"
   ]
  },
  {
   "cell_type": "code",
   "execution_count": 9,
   "metadata": {},
   "outputs": [],
   "source": [
    "dep = pd.read_csv(f'data/dep_{leg_num}.csv')[['persona', 'nomeGruppo', 'nome', 'cognome']]\n",
    "a = dep['cognome']+ ' ' + dep['nome']\n",
    "dep['Parlamentare'] = a\n",
    "dep.drop(['nome', 'cognome'], axis = 1, inplace= True)\n",
    "\n",
    "a = []\n",
    "for i in range(dep.shape[0]):\n",
    "    a.append(dep['persona'][i][39:])\n",
    "\n",
    "dep['id'] = a\n",
    "dep.drop('persona', inplace= True, axis = 1)\n",
    "\n",
    "p = []\n",
    "dat = []\n",
    "for i in dep['nomeGruppo']:\n",
    "    e = i.split()\n",
    "    p.append(e[-2][1:-1])\n",
    "    d = e[-1].replace(')', '')\n",
    "    dat.append(datetime.strptime(d[-10:], '%d.%m.%Y'))\n",
    "\n",
    "dep['Partito'] = p\n",
    "dep['dataIngresso'] = dat\n",
    "dep.drop('nomeGruppo', axis = 1, inplace= True)\n",
    "\n",
    "first_df = pd.DataFrame(columns= dep.columns)\n",
    "\n",
    "for i in np.unique(dep['id']):\n",
    "    if len(dep[dep['id'] == i]) < 2:\n",
    "        first_df = pd.concat([first_df, dep[dep['id'] == i]])\n",
    "    else:\n",
    "        duplicate = dep[dep['id'] == i]\n",
    "        first_df = pd.concat([first_df, duplicate.head(1)])\n"
   ]
  },
  {
   "cell_type": "code",
   "execution_count": 10,
   "metadata": {},
   "outputs": [
    {
     "name": "stdout",
     "output_type": "stream",
     "text": [
      "01\n",
      "02\n",
      "03\n",
      "04\n",
      "05\n",
      "06\n",
      "07\n",
      "08\n",
      "09\n",
      "10\n",
      "11\n",
      "12\n",
      "(681, 4)\n"
     ]
    }
   ],
   "source": [
    "sparql.setReturnFormat(JSON)\n",
    "\n",
    "leg = 'xvi'\n",
    "year = '2012'\n",
    "final_df = first_df.copy()\n",
    "\n",
    "# deputati of a specific legislation\n",
    "for m in range(1,13):\n",
    "   print(f'{m:02d}')\n",
    "\n",
    "   for d in range(1,32):\n",
    "      month = f'{m:02d}'\n",
    "      day = f'{d:02d}'\n",
    "      sparql.setQuery(\"\"\"\n",
    "      select distinct ?votazione ?data ?titolo ?numeroVotazione ?cognome ?nome ?espressione ?infoAssenza ?deputato where {\n",
    "      ?votazione a ocd:votazione;\n",
    "         dc:date '\"\"\"+year+month+day+\"\"\"';\n",
    "         dc:date ?data;\n",
    "         rdfs:label ?titolo;\n",
    "         dc:description ?descrizione;\n",
    "         dc:identifier ?numeroVotazione.\n",
    "\n",
    "\n",
    "      ## voti espressi\n",
    "      ?voto a ocd:voto;\n",
    "         ocd:rif_votazione ?votazione;\n",
    "         dc:type ?espressione;\n",
    "         ocd:rif_deputato ?deputato.\n",
    "      OPTIONAL{?voto dc:description ?infoAssenza}\n",
    "\n",
    "\n",
    "      ## info deputato\n",
    "      ?deputato foaf:surname ?cognome; foaf:firstName ?nome  \n",
    "\n",
    "\n",
    "      } ORDER BY ?cognome\n",
    "         \n",
    "      \"\"\"\n",
    "      )\n",
    "      try:\n",
    "         ret = sparql.queryAndConvert()\n",
    "         res = ret[\"results\"][\"bindings\"]\n",
    "      except Exception as e:\n",
    "         print(e)\n",
    "\n",
    "      dep = []\n",
    "      vot = []\n",
    "      numero = []\n",
    "      for i in res:\n",
    "         dep.append((i.get('deputato')).get('value')[40:46])\n",
    "         vot.append((i.get('espressione')).get('value'))\n",
    "         numero.append((i.get('numeroVotazione')).get('value'))\n",
    "\n",
    "      votazione = pd.DataFrame([dep,vot, numero], index = ['id', 'Voto1', 'numero']).T\n",
    "         \n",
    "      for i in list(set(votazione['numero'])):\n",
    "         espressione = votazione[votazione['numero'] == i][['id', 'Voto1']]\n",
    "         espressione.columns= ('id', i)\n",
    "         final_df = pd.merge(final_df, espressione, how = 'left')\n",
    "            \n",
    "print(final_df.shape)     \n",
    "final_df.to_csv('./'+leg+'-years'+'/'+leg+'-'+year+'.csv', index=False)"
   ]
  },
  {
   "cell_type": "code",
   "execution_count": 11,
   "metadata": {},
   "outputs": [
    {
     "name": "stdout",
     "output_type": "stream",
     "text": [
      "(681, 4)\n"
     ]
    }
   ],
   "source": [
    "print(final_df.shape)     \n"
   ]
  },
  {
   "attachments": {},
   "cell_type": "markdown",
   "metadata": {},
   "source": [
    "Merge"
   ]
  },
  {
   "cell_type": "code",
   "execution_count": 12,
   "metadata": {},
   "outputs": [
    {
     "data": {
      "text/plain": [
       "\"\\nleg = 'xvii'\\n\\nyear = 2013\\nmerged = pd.read_csv(f'./{leg}-years/{leg}-{year}.csv')\\nprint(merged.shape)\\n\\nfor year in [2014,2015,2016,2017,2018]:\\n    y = pd.read_csv(f'./{leg}-years/{leg}-{year}.csv')\\n    merged = pd.merge(merged, y, how = 'left')\\n    print(merged.shape)\\n\\nmerged.to_csv('./'+leg+'-years'+'/'+leg+'-merged.csv', index=False)\\n\""
      ]
     },
     "execution_count": 12,
     "metadata": {},
     "output_type": "execute_result"
    }
   ],
   "source": [
    "'''\n",
    "leg = 'xvii'\n",
    "\n",
    "year = 2013\n",
    "merged = pd.read_csv(f'./{leg}-years/{leg}-{year}.csv')\n",
    "print(merged.shape)\n",
    "\n",
    "for year in [2014,2015,2016,2017,2018]:\n",
    "    y = pd.read_csv(f'./{leg}-years/{leg}-{year}.csv')\n",
    "    merged = pd.merge(merged, y, how = 'left')\n",
    "    print(merged.shape)\n",
    "\n",
    "merged.to_csv('./'+leg+'-years'+'/'+leg+'-merged.csv', index=False)\n",
    "'''"
   ]
  }
 ],
 "metadata": {
  "kernelspec": {
   "display_name": "sna",
   "language": "python",
   "name": "python3"
  },
  "language_info": {
   "codemirror_mode": {
    "name": "ipython",
    "version": 3
   },
   "file_extension": ".py",
   "mimetype": "text/x-python",
   "name": "python",
   "nbconvert_exporter": "python",
   "pygments_lexer": "ipython3",
   "version": "3.8.10"
  },
  "orig_nbformat": 4
 },
 "nbformat": 4,
 "nbformat_minor": 2
}
