{
 "cells": [
  {
   "cell_type": "code",
   "execution_count": 13,
   "metadata": {},
   "outputs": [],
   "source": [
    "import pandas as pd\n",
    "from sklearn.preprocessing import LabelEncoder\n",
    "import numpy as np\n",
    "from rdflib import Graph\n",
    "from sklearn.metrics.pairwise import cosine_similarity\n",
    "import networkx as nx\n",
    "from networkx.algorithms import bipartite\n",
    "from datetime import datetime\n",
    "dep = pd.read_csv('data/18esima_Leg/final_dep_18.csv')\n",
    "dep['id'] = dep['id'].astype(str)\n",
    "vot_1 = pd.read_csv('data/18esima_Leg/eco/votazione-08-02-18.csv')\n",
    "vot_1.columns = ['votazione', 'titolo', 'descrizione', 'numeroVotazione', 'cognome',\n",
    "       'nome', 'eco_1', 'infoAssenza', 'deputato'] #change name of the columns 'Espressione' in a meaningful one\n",
    "#extract id from the link\n",
    "a = []\n",
    "for i in range(vot_1.shape[0]):\n",
    "    a.append(vot_1['deputato'][i][40:46])\n",
    "\n",
    "vot_1['id'] = a\n",
    "vot_1.drop('deputato', inplace= True, axis = 1)\n",
    "\n",
    "xviii_leg_voti = pd.merge(dep[['Parlamentare', 'id', 'Partito']], vot_1[['id', 'eco_1']], how = 'left') #first merge\n",
    "\n",
    "vot_3 = pd.read_csv('data/18esima_Leg/eco/votazione-03-08-22.csv')\n",
    "vot_3.columns = ['votazione', 'titolo', 'descrizione', 'numeroVotazione', 'cognome',\n",
    "       'nome', 'eco_2', 'infoAssenza', 'deputato'] #change name of the columns 'Espressione' in a meaningful one\n",
    "#extract id from the link\n",
    "a = []\n",
    "for i in range(vot_3.shape[0]):\n",
    "    a.append(vot_3['deputato'][i][40:46])\n",
    "\n",
    "vot_3['id'] = a\n",
    "vot_3.drop('deputato', inplace= True, axis = 1)\n",
    "\n",
    "xviii_leg_voti = pd.merge(xviii_leg_voti, vot_3[['id', 'eco_2']], how = 'left') #first merge\n",
    "\n",
    "\n",
    "vot_3 = pd.read_csv('data/18esima_Leg/eco/votazione-10-12-19.csv')\n",
    "vot_3.columns = ['votazione', 'titolo', 'descrizione', 'numeroVotazione', 'cognome',\n",
    "       'nome', 'eco_3', 'infoAssenza', 'deputato'] #change name of the columns 'Espressione' in a meaningful one\n",
    "#extract id from the link\n",
    "a = []\n",
    "for i in range(vot_3.shape[0]):\n",
    "    a.append(vot_3['deputato'][i][40:46])\n",
    "\n",
    "vot_3['id'] = a\n",
    "vot_3.drop('deputato', inplace= True, axis = 1)\n",
    "\n",
    "xviii_leg_voti = pd.merge(xviii_leg_voti, vot_3[['id', 'eco_3']], how = 'left') #first merge\n",
    "vot_3 = pd.read_csv('data/18esima_Leg/eco/votazione-24-10-19.csv')\n",
    "vot_3.columns = ['votazione', 'titolo', 'descrizione', 'numeroVotazione', 'cognome',\n",
    "       'nome', 'eco_4', 'infoAssenza', 'deputato'] #change name of the columns 'Espressione' in a meaningful one\n",
    "#extract id from the link\n",
    "a = []\n",
    "for i in range(vot_3.shape[0]):\n",
    "    a.append(vot_3['deputato'][i][40:46])\n",
    "\n",
    "vot_3['id'] = a\n",
    "vot_3.drop('deputato', inplace= True, axis = 1)\n",
    "\n",
    "xviii_leg_voti = pd.merge(xviii_leg_voti, vot_3[['id', 'eco_4']], how = 'left') #first merge\n",
    "vot_3 = pd.read_csv('data/18esima_Leg/eco/votazione-18-09-2019.csv')\n",
    "vot_3.columns = ['votazione', 'titolo', 'descrizione', 'numeroVotazione', 'cognome',\n",
    "       'nome', 'eco_5', 'infoAssenza', 'deputato'] #change name of the columns 'Espressione' in a meaningful one\n",
    "#extract id from the link\n",
    "a = []\n",
    "for i in range(vot_3.shape[0]):\n",
    "    a.append(vot_3['deputato'][i][40:46])\n",
    "\n",
    "vot_3['id'] = a\n",
    "vot_3.drop('deputato', inplace= True, axis = 1)\n",
    "\n",
    "xviii_leg_voti = pd.merge(xviii_leg_voti, vot_3[['id', 'eco_5']], how = 'left') #first merge\n",
    "vot_3 = pd.read_csv('data/18esima_Leg/imm/votazione-05-04-22.csv')\n",
    "vot_3.columns = ['votazione', 'titolo', 'descrizione', 'numeroVotazione', 'cognome',\n",
    "       'nome', 'imm_1', 'infoAssenza', 'deputato'] #change name of the columns 'Espressione' in a meaningful one\n",
    "#extract id from the link\n",
    "a = []\n",
    "for i in range(vot_3.shape[0]):\n",
    "    a.append(vot_3['deputato'][i][40:46])\n",
    "\n",
    "vot_3['id'] = a\n",
    "vot_3.drop('deputato', inplace= True, axis = 1)\n",
    "\n",
    "xviii_leg_voti = pd.merge(xviii_leg_voti, vot_3[['id', 'imm_1']], how = 'left') #first merge\n",
    "vot_3 = pd.read_csv('data/18esima_Leg/imm/votazione-05-04-22.csv')\n",
    "vot_3.columns = ['votazione', 'titolo', 'descrizione', 'numeroVotazione', 'cognome',\n",
    "       'nome', 'imm_2', 'infoAssenza', 'deputato'] #change name of the columns 'Espressione' in a meaningful one\n",
    "#extract id from the link\n",
    "a = []\n",
    "for i in range(vot_3.shape[0]):\n",
    "    a.append(vot_3['deputato'][i][40:46])\n",
    "\n",
    "vot_3['id'] = a\n",
    "vot_3.drop('deputato', inplace= True, axis = 1)\n",
    "\n",
    "xviii_leg_voti = pd.merge(xviii_leg_voti, vot_3[['id', 'imm_2']], how = 'left') #first merge\n",
    "vot_3 = pd.read_csv('data/18esima_Leg/mafia/votazione-07-03-19.csv')\n",
    "vot_3.columns = ['votazione', 'titolo', 'descrizione', 'numeroVotazione', 'cognome',\n",
    "       'nome', 'maf_1', 'infoAssenza', 'deputato'] #change name of the columns 'Espressione' in a meaningful one\n",
    "#extract id from the link\n",
    "a = []\n",
    "for i in range(vot_3.shape[0]):\n",
    "    a.append(vot_3['deputato'][i][40:46])\n",
    "\n",
    "vot_3['id'] = a\n",
    "vot_3.drop('deputato', inplace= True, axis = 1)\n",
    "\n",
    "xviii_leg_voti = pd.merge(xviii_leg_voti, vot_3[['id', 'maf_1']], how = 'left') #first merge"
   ]
  },
  {
   "cell_type": "code",
   "execution_count": 14,
   "metadata": {},
   "outputs": [
    {
     "data": {
      "text/html": [
       "<div>\n",
       "<style scoped>\n",
       "    .dataframe tbody tr th:only-of-type {\n",
       "        vertical-align: middle;\n",
       "    }\n",
       "\n",
       "    .dataframe tbody tr th {\n",
       "        vertical-align: top;\n",
       "    }\n",
       "\n",
       "    .dataframe thead th {\n",
       "        text-align: right;\n",
       "    }\n",
       "</style>\n",
       "<table border=\"1\" class=\"dataframe\">\n",
       "  <thead>\n",
       "    <tr style=\"text-align: right;\">\n",
       "      <th></th>\n",
       "      <th>Parlamentare</th>\n",
       "      <th>id</th>\n",
       "      <th>Partito</th>\n",
       "      <th>eco_1</th>\n",
       "      <th>eco_2</th>\n",
       "      <th>eco_3</th>\n",
       "      <th>eco_4</th>\n",
       "      <th>eco_5</th>\n",
       "      <th>imm_1</th>\n",
       "      <th>imm_2</th>\n",
       "      <th>maf_1</th>\n",
       "    </tr>\n",
       "  </thead>\n",
       "  <tbody>\n",
       "    <tr>\n",
       "      <th>0</th>\n",
       "      <td>BASINI GIUSEPPE</td>\n",
       "      <td>200049</td>\n",
       "      <td>(LEGA)</td>\n",
       "      <td>Non ha votato</td>\n",
       "      <td>Non ha votato</td>\n",
       "      <td>Contrario</td>\n",
       "      <td>Non ha votato</td>\n",
       "      <td>Favorevole</td>\n",
       "      <td>Favorevole</td>\n",
       "      <td>Favorevole</td>\n",
       "      <td>Non ha votato</td>\n",
       "    </tr>\n",
       "    <tr>\n",
       "      <th>1</th>\n",
       "      <td>BERSANI PIER LUIGI</td>\n",
       "      <td>300026</td>\n",
       "      <td>(MISTO)</td>\n",
       "      <td>Favorevole</td>\n",
       "      <td>Non ha votato</td>\n",
       "      <td>Non ha votato</td>\n",
       "      <td>Favorevole</td>\n",
       "      <td>Favorevole</td>\n",
       "      <td>Favorevole</td>\n",
       "      <td>Favorevole</td>\n",
       "      <td>Non ha votato</td>\n",
       "    </tr>\n",
       "    <tr>\n",
       "      <th>2</th>\n",
       "      <td>LETTA ENRICO</td>\n",
       "      <td>300127</td>\n",
       "      <td>(PD)</td>\n",
       "      <td>Favorevole</td>\n",
       "      <td>Non ha votato</td>\n",
       "      <td>NaN</td>\n",
       "      <td>NaN</td>\n",
       "      <td>NaN</td>\n",
       "      <td>Favorevole</td>\n",
       "      <td>Favorevole</td>\n",
       "      <td>NaN</td>\n",
       "    </tr>\n",
       "    <tr>\n",
       "      <th>3</th>\n",
       "      <td>MINNITI DOMENICO</td>\n",
       "      <td>300146</td>\n",
       "      <td>(PD)</td>\n",
       "      <td>NaN</td>\n",
       "      <td>NaN</td>\n",
       "      <td>Favorevole</td>\n",
       "      <td>Non ha votato</td>\n",
       "      <td>Favorevole</td>\n",
       "      <td>NaN</td>\n",
       "      <td>NaN</td>\n",
       "      <td>Non ha votato</td>\n",
       "    </tr>\n",
       "    <tr>\n",
       "      <th>4</th>\n",
       "      <td>FRANCESCHINI DARIO</td>\n",
       "      <td>300246</td>\n",
       "      <td>(PD)</td>\n",
       "      <td>Non ha votato</td>\n",
       "      <td>Non ha votato</td>\n",
       "      <td>Non ha votato</td>\n",
       "      <td>Non ha votato</td>\n",
       "      <td>Non ha votato</td>\n",
       "      <td>Non ha votato</td>\n",
       "      <td>Non ha votato</td>\n",
       "      <td>Non ha votato</td>\n",
       "    </tr>\n",
       "  </tbody>\n",
       "</table>\n",
       "</div>"
      ],
      "text/plain": [
       "         Parlamentare      id  Partito          eco_1          eco_2  \\\n",
       "0     BASINI GIUSEPPE  200049   (LEGA)  Non ha votato  Non ha votato   \n",
       "1  BERSANI PIER LUIGI  300026  (MISTO)     Favorevole  Non ha votato   \n",
       "2        LETTA ENRICO  300127     (PD)     Favorevole  Non ha votato   \n",
       "3    MINNITI DOMENICO  300146     (PD)            NaN            NaN   \n",
       "4  FRANCESCHINI DARIO  300246     (PD)  Non ha votato  Non ha votato   \n",
       "\n",
       "           eco_3          eco_4          eco_5          imm_1          imm_2  \\\n",
       "0      Contrario  Non ha votato     Favorevole     Favorevole     Favorevole   \n",
       "1  Non ha votato     Favorevole     Favorevole     Favorevole     Favorevole   \n",
       "2            NaN            NaN            NaN     Favorevole     Favorevole   \n",
       "3     Favorevole  Non ha votato     Favorevole            NaN            NaN   \n",
       "4  Non ha votato  Non ha votato  Non ha votato  Non ha votato  Non ha votato   \n",
       "\n",
       "           maf_1  \n",
       "0  Non ha votato  \n",
       "1  Non ha votato  \n",
       "2            NaN  \n",
       "3  Non ha votato  \n",
       "4  Non ha votato  "
      ]
     },
     "execution_count": 14,
     "metadata": {},
     "output_type": "execute_result"
    }
   ],
   "source": [
    "xviii_leg_voti.head()"
   ]
  },
  {
   "cell_type": "code",
   "execution_count": null,
   "metadata": {},
   "outputs": [],
   "source": [
    "pd.set_option('display.max_rows', None)\n",
    "xviii_leg_voti"
   ]
  },
  {
   "cell_type": "code",
   "execution_count": 17,
   "metadata": {},
   "outputs": [
    {
     "data": {
      "text/plain": [
       "(array(['Astensione', 'Contrario', 'Favorevole', 'Non ha votato'],\n",
       "       dtype=object),\n",
       " array([  6,   1, 467, 154], dtype=int64))"
      ]
     },
     "execution_count": 17,
     "metadata": {},
     "output_type": "execute_result"
    }
   ],
   "source": [
    "np.unique(vot_1['voto_1'], return_counts= True)"
   ]
  },
  {
   "cell_type": "code",
   "execution_count": 22,
   "metadata": {},
   "outputs": [
    {
     "data": {
      "text/plain": [
       "628"
      ]
     },
     "execution_count": 22,
     "metadata": {},
     "output_type": "execute_result"
    }
   ],
   "source": [
    "sum([  6,   1, 467, 154])"
   ]
  },
  {
   "cell_type": "code",
   "execution_count": 7,
   "metadata": {},
   "outputs": [],
   "source": [
    "import missingno as msno"
   ]
  },
  {
   "cell_type": "code",
   "execution_count": 11,
   "metadata": {},
   "outputs": [
    {
     "data": {
      "text/plain": [
       "<Axes: >"
      ]
     },
     "execution_count": 11,
     "metadata": {},
     "output_type": "execute_result"
    },
    {
     "data": {
      "image/png": "[encoded data removed]",
      "text/plain": [
       "<Figure size 2500x1000 with 2 Axes>"
      ]
     },
     "metadata": {},
     "output_type": "display_data"
    }
   ],
   "source": [
    "msno.matrix(merged)"
   ]
  },
  {
   "cell_type": "code",
   "execution_count": 43,
   "metadata": {},
   "outputs": [
    {
     "data": {
      "text/plain": [
       "array([[1.        , 0.70710678, 0.70710678, ..., 0.        , 0.        ,\n",
       "        0.70710678],\n",
       "       [0.70710678, 1.        , 1.        , ..., 0.        , 0.        ,\n",
       "        0.        ],\n",
       "       [0.70710678, 1.        , 1.        , ..., 0.        , 0.        ,\n",
       "        0.        ],\n",
       "       ...,\n",
       "       [0.        , 0.        , 0.        , ..., 0.        , 0.        ,\n",
       "        0.        ],\n",
       "       [0.        , 0.        , 0.        , ..., 0.        , 0.        ,\n",
       "        0.        ],\n",
       "       [0.70710678, 0.        , 0.        , ..., 0.        , 0.        ,\n",
       "        1.        ]])"
      ]
     },
     "execution_count": 43,
     "metadata": {},
     "output_type": "execute_result"
    }
   ],
   "source": [
    "cosine_similarity(merged[['voto_1', 'voto_2']])"
   ]
  }
 ],
 "metadata": {
  "kernelspec": {
   "display_name": "Python 3",
   "language": "python",
   "name": "python3"
  },
  "language_info": {
   "codemirror_mode": {
    "name": "ipython",
    "version": 3
   },
   "file_extension": ".py",
   "mimetype": "text/x-python",
   "name": "python",
   "nbconvert_exporter": "python",
   "pygments_lexer": "ipython3",
   "version": "3.10.11"
  },
  "orig_nbformat": 4
 },
 "nbformat": 4,
 "nbformat_minor": 2
}
