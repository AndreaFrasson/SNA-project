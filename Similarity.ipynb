{
 "cells": [
  {
   "cell_type": "code",
   "execution_count": 74,
   "metadata": {},
   "outputs": [],
   "source": [
    "\n",
    "import pandas as pd\n",
    "from sklearn.preprocessing import LabelEncoder\n",
    "import numpy as np\n",
    "from rdflib import Graph\n",
    "from sklearn.metrics.pairwise import cosine_similarity\n",
    "import networkx as nx\n",
    "from networkx.algorithms import bipartite\n",
    "from datetime import datetime"
   ]
  },
  {
   "cell_type": "code",
   "execution_count": 75,
   "metadata": {},
   "outputs": [],
   "source": [
    "dep = pd.read_csv('data/final_dep_18.csv')\n",
    "dep['id'] = dep['id'].astype(str)"
   ]
  },
  {
   "cell_type": "code",
   "execution_count": 76,
   "metadata": {},
   "outputs": [],
   "source": [
    "vot_1 = pd.read_csv('data/votazione-08-02-18.csv')\n",
    "vot_1.columns = ['votazione', 'titolo', 'descrizione', 'numeroVotazione', 'cognome',\n",
    "       'nome', 'voto_1', 'infoAssenza', 'deputato'] #change name of the columns 'Espressione' in a meaningful one\n",
    "#extract id from the link\n",
    "a = []\n",
    "for i in range(vot_1.shape[0]):\n",
    "    a.append(vot_1['deputato'][i][40:46])\n",
    "\n",
    "vot_1['id'] = a\n",
    "vot_1.drop('deputato', inplace= True, axis = 1)\n",
    "\n",
    "merged = pd.merge(dep[['Parlamentare', 'id', 'Partito']], vot_1[['id', 'voto_1']], how = 'left') #first merge\n"
   ]
  },
  {
   "cell_type": "code",
   "execution_count": 77,
   "metadata": {},
   "outputs": [],
   "source": [
    "vot_3 = pd.read_csv('data/votazione-03-08-22.csv')\n",
    "vot_3.columns = ['votazione', 'titolo', 'descrizione', 'numeroVotazione', 'cognome',\n",
    "       'nome', 'voto_3', 'infoAssenza', 'deputato'] #change name of the columns 'Espressione' in a meaningful one\n",
    "#extract id from the link\n",
    "a = []\n",
    "for i in range(vot_3.shape[0]):\n",
    "    a.append(vot_3['deputato'][i][40:46])\n",
    "\n",
    "vot_3['id'] = a\n",
    "vot_3.drop('deputato', inplace= True, axis = 1)\n",
    "\n",
    "merged = pd.merge(merged, vot_3[['id', 'voto_3']], how = 'left') #first merge\n",
    "\n"
   ]
  },
  {
   "cell_type": "code",
   "execution_count": 78,
   "metadata": {},
   "outputs": [
    {
     "data": {
      "text/html": [
       "<div>\n",
       "<style scoped>\n",
       "    .dataframe tbody tr th:only-of-type {\n",
       "        vertical-align: middle;\n",
       "    }\n",
       "\n",
       "    .dataframe tbody tr th {\n",
       "        vertical-align: top;\n",
       "    }\n",
       "\n",
       "    .dataframe thead th {\n",
       "        text-align: right;\n",
       "    }\n",
       "</style>\n",
       "<table border=\"1\" class=\"dataframe\">\n",
       "  <thead>\n",
       "    <tr style=\"text-align: right;\">\n",
       "      <th></th>\n",
       "      <th>Parlamentare</th>\n",
       "      <th>id</th>\n",
       "      <th>Partito</th>\n",
       "      <th>voto_1</th>\n",
       "      <th>voto_3</th>\n",
       "    </tr>\n",
       "  </thead>\n",
       "  <tbody>\n",
       "    <tr>\n",
       "      <th>0</th>\n",
       "      <td>BASINI GIUSEPPE</td>\n",
       "      <td>200049</td>\n",
       "      <td>(LEGA)</td>\n",
       "      <td>Non ha votato</td>\n",
       "      <td>Non ha votato</td>\n",
       "    </tr>\n",
       "    <tr>\n",
       "      <th>1</th>\n",
       "      <td>BERSANI PIER LUIGI</td>\n",
       "      <td>300026</td>\n",
       "      <td>(MISTO)</td>\n",
       "      <td>Favorevole</td>\n",
       "      <td>Non ha votato</td>\n",
       "    </tr>\n",
       "    <tr>\n",
       "      <th>2</th>\n",
       "      <td>LETTA ENRICO</td>\n",
       "      <td>300127</td>\n",
       "      <td>(PD)</td>\n",
       "      <td>Favorevole</td>\n",
       "      <td>Non ha votato</td>\n",
       "    </tr>\n",
       "    <tr>\n",
       "      <th>3</th>\n",
       "      <td>MINNITI DOMENICO</td>\n",
       "      <td>300146</td>\n",
       "      <td>(PD)</td>\n",
       "      <td>NaN</td>\n",
       "      <td>NaN</td>\n",
       "    </tr>\n",
       "    <tr>\n",
       "      <th>4</th>\n",
       "      <td>FRANCESCHINI DARIO</td>\n",
       "      <td>300246</td>\n",
       "      <td>(PD)</td>\n",
       "      <td>Non ha votato</td>\n",
       "      <td>Non ha votato</td>\n",
       "    </tr>\n",
       "    <tr>\n",
       "      <th>...</th>\n",
       "      <td>...</td>\n",
       "      <td>...</td>\n",
       "      <td>...</td>\n",
       "      <td>...</td>\n",
       "      <td>...</td>\n",
       "    </tr>\n",
       "    <tr>\n",
       "      <th>655</th>\n",
       "      <td>GIORGETTI GIANCARLO</td>\n",
       "      <td>50115</td>\n",
       "      <td>(LEGA)</td>\n",
       "      <td>NaN</td>\n",
       "      <td>NaN</td>\n",
       "    </tr>\n",
       "    <tr>\n",
       "      <th>656</th>\n",
       "      <td>PAROLO UGO</td>\n",
       "      <td>50123</td>\n",
       "      <td>(LEGA)</td>\n",
       "      <td>NaN</td>\n",
       "      <td>NaN</td>\n",
       "    </tr>\n",
       "    <tr>\n",
       "      <th>657</th>\n",
       "      <td>FOTI TOMMASO</td>\n",
       "      <td>50204</td>\n",
       "      <td>(FDI)</td>\n",
       "      <td>NaN</td>\n",
       "      <td>NaN</td>\n",
       "    </tr>\n",
       "    <tr>\n",
       "      <th>658</th>\n",
       "      <td>RUSSO PAOLO</td>\n",
       "      <td>50213</td>\n",
       "      <td>(FI)</td>\n",
       "      <td>NaN</td>\n",
       "      <td>NaN</td>\n",
       "    </tr>\n",
       "    <tr>\n",
       "      <th>659</th>\n",
       "      <td>GALLI DARIO</td>\n",
       "      <td>50462</td>\n",
       "      <td>(LEGA)</td>\n",
       "      <td>NaN</td>\n",
       "      <td>NaN</td>\n",
       "    </tr>\n",
       "  </tbody>\n",
       "</table>\n",
       "<p>660 rows × 5 columns</p>\n",
       "</div>"
      ],
      "text/plain": [
       "            Parlamentare      id  Partito         voto_1         voto_3\n",
       "0        BASINI GIUSEPPE  200049   (LEGA)  Non ha votato  Non ha votato\n",
       "1     BERSANI PIER LUIGI  300026  (MISTO)     Favorevole  Non ha votato\n",
       "2           LETTA ENRICO  300127     (PD)     Favorevole  Non ha votato\n",
       "3       MINNITI DOMENICO  300146     (PD)            NaN            NaN\n",
       "4     FRANCESCHINI DARIO  300246     (PD)  Non ha votato  Non ha votato\n",
       "..                   ...     ...      ...            ...            ...\n",
       "655  GIORGETTI GIANCARLO   50115   (LEGA)            NaN            NaN\n",
       "656           PAROLO UGO   50123   (LEGA)            NaN            NaN\n",
       "657         FOTI TOMMASO   50204    (FDI)            NaN            NaN\n",
       "658          RUSSO PAOLO   50213     (FI)            NaN            NaN\n",
       "659          GALLI DARIO   50462   (LEGA)            NaN            NaN\n",
       "\n",
       "[660 rows x 5 columns]"
      ]
     },
     "execution_count": 78,
     "metadata": {},
     "output_type": "execute_result"
    }
   ],
   "source": [
    "merged"
   ]
  },
  {
   "cell_type": "code",
   "execution_count": 79,
   "metadata": {},
   "outputs": [
    {
     "data": {
      "text/plain": [
       "(array(['Astensione', 'Contrario', 'Favorevole', 'Non ha votato'],\n",
       "       dtype=object),\n",
       " array([  6,   1, 467, 154]))"
      ]
     },
     "execution_count": 79,
     "metadata": {},
     "output_type": "execute_result"
    }
   ],
   "source": [
    "np.unique(vot_1['voto_1'], return_counts= True)"
   ]
  },
  {
   "cell_type": "code",
   "execution_count": 80,
   "metadata": {},
   "outputs": [
    {
     "data": {
      "text/plain": [
       "628"
      ]
     },
     "execution_count": 80,
     "metadata": {},
     "output_type": "execute_result"
    }
   ],
   "source": [
    "sum([  6,   1, 467, 154])"
   ]
  },
  {
   "cell_type": "code",
   "execution_count": 81,
   "metadata": {},
   "outputs": [],
   "source": [
    "import missingno as msno"
   ]
  },
  {
   "cell_type": "code",
   "execution_count": 82,
   "metadata": {},
   "outputs": [
    {
     "data": {
      "text/plain": [
       "<Axes: >"
      ]
     },
     "execution_count": 82,
     "metadata": {},
     "output_type": "execute_result"
    },
    {
     "data": {
      "image/png": "[encoded data removed]",
      "text/plain": [
       "<Figure size 2500x1000 with 2 Axes>"
      ]
     },
     "metadata": {},
     "output_type": "display_data"
    }
   ],
   "source": [
    "msno.matrix(merged)"
   ]
  },
  {
   "cell_type": "code",
   "execution_count": 83,
   "metadata": {},
   "outputs": [
    {
     "name": "stdout",
     "output_type": "stream",
     "text": [
      "['Assente' 'Astensione' 'Contrario' 'Favorevole' 'Non ha votato']\n"
     ]
    }
   ],
   "source": [
    "merged.fillna('Assente', inplace= True)\n",
    "print(np.unique(merged['voto_1']))\n",
    "#np.unique(merged['voto_3'])"
   ]
  },
  {
   "cell_type": "code",
   "execution_count": 84,
   "metadata": {},
   "outputs": [],
   "source": [
    "dizionario_espressioni = {'Favorevole' : '1', 'Contrario': '-1', 'Assente': '0', 'Astensione': '2', 'In missione': '0', 'Non ha votato': '0'}\n",
    "merged['voto_1'] = merged['voto_1'].map(dizionario_espressioni)\n",
    "merged['voto_3'] = merged['voto_3'].map(dizionario_espressioni)"
   ]
  },
  {
   "cell_type": "code",
   "execution_count": 85,
   "metadata": {},
   "outputs": [
    {
     "data": {
      "text/html": [
       "<div>\n",
       "<style scoped>\n",
       "    .dataframe tbody tr th:only-of-type {\n",
       "        vertical-align: middle;\n",
       "    }\n",
       "\n",
       "    .dataframe tbody tr th {\n",
       "        vertical-align: top;\n",
       "    }\n",
       "\n",
       "    .dataframe thead th {\n",
       "        text-align: right;\n",
       "    }\n",
       "</style>\n",
       "<table border=\"1\" class=\"dataframe\">\n",
       "  <thead>\n",
       "    <tr style=\"text-align: right;\">\n",
       "      <th></th>\n",
       "      <th>Parlamentare</th>\n",
       "      <th>id</th>\n",
       "      <th>Partito</th>\n",
       "      <th>voto_1</th>\n",
       "      <th>voto_3</th>\n",
       "    </tr>\n",
       "  </thead>\n",
       "  <tbody>\n",
       "    <tr>\n",
       "      <th>0</th>\n",
       "      <td>BASINI GIUSEPPE</td>\n",
       "      <td>200049</td>\n",
       "      <td>(LEGA)</td>\n",
       "      <td>0</td>\n",
       "      <td>0</td>\n",
       "    </tr>\n",
       "    <tr>\n",
       "      <th>1</th>\n",
       "      <td>BERSANI PIER LUIGI</td>\n",
       "      <td>300026</td>\n",
       "      <td>(MISTO)</td>\n",
       "      <td>1</td>\n",
       "      <td>0</td>\n",
       "    </tr>\n",
       "    <tr>\n",
       "      <th>2</th>\n",
       "      <td>LETTA ENRICO</td>\n",
       "      <td>300127</td>\n",
       "      <td>(PD)</td>\n",
       "      <td>1</td>\n",
       "      <td>0</td>\n",
       "    </tr>\n",
       "    <tr>\n",
       "      <th>3</th>\n",
       "      <td>MINNITI DOMENICO</td>\n",
       "      <td>300146</td>\n",
       "      <td>(PD)</td>\n",
       "      <td>0</td>\n",
       "      <td>0</td>\n",
       "    </tr>\n",
       "    <tr>\n",
       "      <th>4</th>\n",
       "      <td>FRANCESCHINI DARIO</td>\n",
       "      <td>300246</td>\n",
       "      <td>(PD)</td>\n",
       "      <td>0</td>\n",
       "      <td>0</td>\n",
       "    </tr>\n",
       "    <tr>\n",
       "      <th>...</th>\n",
       "      <td>...</td>\n",
       "      <td>...</td>\n",
       "      <td>...</td>\n",
       "      <td>...</td>\n",
       "      <td>...</td>\n",
       "    </tr>\n",
       "    <tr>\n",
       "      <th>655</th>\n",
       "      <td>GIORGETTI GIANCARLO</td>\n",
       "      <td>50115</td>\n",
       "      <td>(LEGA)</td>\n",
       "      <td>0</td>\n",
       "      <td>0</td>\n",
       "    </tr>\n",
       "    <tr>\n",
       "      <th>656</th>\n",
       "      <td>PAROLO UGO</td>\n",
       "      <td>50123</td>\n",
       "      <td>(LEGA)</td>\n",
       "      <td>0</td>\n",
       "      <td>0</td>\n",
       "    </tr>\n",
       "    <tr>\n",
       "      <th>657</th>\n",
       "      <td>FOTI TOMMASO</td>\n",
       "      <td>50204</td>\n",
       "      <td>(FDI)</td>\n",
       "      <td>0</td>\n",
       "      <td>0</td>\n",
       "    </tr>\n",
       "    <tr>\n",
       "      <th>658</th>\n",
       "      <td>RUSSO PAOLO</td>\n",
       "      <td>50213</td>\n",
       "      <td>(FI)</td>\n",
       "      <td>0</td>\n",
       "      <td>0</td>\n",
       "    </tr>\n",
       "    <tr>\n",
       "      <th>659</th>\n",
       "      <td>GALLI DARIO</td>\n",
       "      <td>50462</td>\n",
       "      <td>(LEGA)</td>\n",
       "      <td>0</td>\n",
       "      <td>0</td>\n",
       "    </tr>\n",
       "  </tbody>\n",
       "</table>\n",
       "<p>660 rows × 5 columns</p>\n",
       "</div>"
      ],
      "text/plain": [
       "            Parlamentare      id  Partito voto_1 voto_3\n",
       "0        BASINI GIUSEPPE  200049   (LEGA)      0      0\n",
       "1     BERSANI PIER LUIGI  300026  (MISTO)      1      0\n",
       "2           LETTA ENRICO  300127     (PD)      1      0\n",
       "3       MINNITI DOMENICO  300146     (PD)      0      0\n",
       "4     FRANCESCHINI DARIO  300246     (PD)      0      0\n",
       "..                   ...     ...      ...    ...    ...\n",
       "655  GIORGETTI GIANCARLO   50115   (LEGA)      0      0\n",
       "656           PAROLO UGO   50123   (LEGA)      0      0\n",
       "657         FOTI TOMMASO   50204    (FDI)      0      0\n",
       "658          RUSSO PAOLO   50213     (FI)      0      0\n",
       "659          GALLI DARIO   50462   (LEGA)      0      0\n",
       "\n",
       "[660 rows x 5 columns]"
      ]
     },
     "execution_count": 85,
     "metadata": {},
     "output_type": "execute_result"
    }
   ],
   "source": [
    "merged"
   ]
  },
  {
   "cell_type": "code",
   "execution_count": 86,
   "metadata": {},
   "outputs": [
    {
     "data": {
      "text/plain": [
       "(array(['200049', '300026', '300127', '300146', '300246', '300271',\n",
       "        '300296', '300299', '300306', '300319', '300328', '300356',\n",
       "        '300387', '300439', '300447', '300453', '300480', '300497',\n",
       "        '300506', '300637', '300674', '301056', '301436', '301448',\n",
       "        '301449', '301452', '301455', '301457', '301459', '301463',\n",
       "        '301465', '301477', '301500', '301531', '301533', '301541',\n",
       "        '301559', '301561', '301573', '302089', '302103', '302124',\n",
       "        '302151', '302155', '302164', '302744', '302754', '302759',\n",
       "        '302762', '302764', '302770', '302774', '302782', '302783',\n",
       "        '302789', '302794', '302824', '302832', '302838', '302854',\n",
       "        '302856', '302863', '302867', '302872', '302875', '302881',\n",
       "        '302882', '302886', '302891', '302892', '302909', '302913',\n",
       "        '302914', '302942', '302943', '302949', '302964', '302968',\n",
       "        '302969', '302980', '302983', '302995', '303038', '303108',\n",
       "        '303110', '303200', '304521', '304601', '305503', '305520',\n",
       "        '305525', '305539', '305547', '305553', '305555', '305559',\n",
       "        '305563', '305567', '305569', '305578', '305580', '305586',\n",
       "        '305595', '305598', '305602', '305604', '305612', '305624',\n",
       "        '305632', '305640', '305650', '305656', '305660', '305668',\n",
       "        '305674', '305684', '305688', '305694', '305696', '305698',\n",
       "        '305702', '305704', '305715', '305717', '305725', '305733',\n",
       "        '305735', '305748', '305757', '305761', '305773', '305780',\n",
       "        '305784', '305787', '305792', '305796', '305798', '305800',\n",
       "        '305806', '305810', '305815', '305837', '305838', '305842',\n",
       "        '305848', '305850', '305852', '305859', '305862', '305866',\n",
       "        '305872', '305880', '305890', '305892', '305894', '305900',\n",
       "        '305910', '305914', '305918', '305933', '305946', '305960',\n",
       "        '305967', '305970', '305972', '305974', '305982', '305997',\n",
       "        '305999', '306008', '306020', '306022', '306030', '306031',\n",
       "        '306034', '306050', '306053', '306058', '306060', '306062',\n",
       "        '306071', '306080', '306082', '306085', '306087', '306088',\n",
       "        '306091', '306096', '306101', '306109', '306120', '306124',\n",
       "        '306128', '306134', '306139', '306160', '306168', '306176',\n",
       "        '306181', '306189', '306193', '306214', '306220', '306222',\n",
       "        '306228', '306230', '306249', '306251', '306253', '306272',\n",
       "        '306304', '306350', '306382', '306383', '306398', '306420',\n",
       "        '306425', '306430', '306432', '306445', '306466', '306483',\n",
       "        '306540', '306549', '306551', '306582', '306641', '306663',\n",
       "        '307105', '307106', '307107', '307108', '307109', '307110',\n",
       "        '307111', '307112', '307113', '307114', '307115', '307116',\n",
       "        '307117', '307118', '307119', '307120', '307121', '307122',\n",
       "        '307123', '307124', '307125', '307126', '307127', '307128',\n",
       "        '307129', '307130', '307131', '307132', '307133', '307134',\n",
       "        '307135', '307136', '307137', '307138', '307139', '307140',\n",
       "        '307141', '307142', '307143', '307145', '307147', '307149',\n",
       "        '307151', '307153', '307155', '307157', '307159', '307161',\n",
       "        '307162', '307163', '307165', '307169', '307171', '307173',\n",
       "        '307175', '307177', '307179', '307181', '307183', '307185',\n",
       "        '307187', '307189', '307190', '307191', '307192', '307193',\n",
       "        '307194', '307195', '307196', '307198', '307200', '307202',\n",
       "        '307204', '307206', '307208', '307210', '307212', '307213',\n",
       "        '307215', '307217', '307219', '307221', '307223', '307225',\n",
       "        '307227', '307229', '307230', '307231', '307232', '307234',\n",
       "        '307236', '307238', '307240', '307242', '307244', '307246',\n",
       "        '307248', '307250', '307252', '307254', '307256', '307258',\n",
       "        '307260', '307262', '307264', '307266', '307268', '307270',\n",
       "        '307272', '307275', '307276', '307277', '307278', '307279',\n",
       "        '307281', '307282', '307283', '307284', '307285', '307286',\n",
       "        '307287', '307288', '307289', '307290', '307293', '307294',\n",
       "        '307296', '307298', '307300', '307302', '307304', '307306',\n",
       "        '307308', '307310', '307312', '307314', '307316', '307318',\n",
       "        '307320', '307322', '307324', '307326', '307328', '307332',\n",
       "        '307334', '307336', '307338', '307340', '307342', '307344',\n",
       "        '307346', '307348', '307350', '307352', '307354', '307356',\n",
       "        '307358', '307360', '307362', '307363', '307364', '307365',\n",
       "        '307366', '307367', '307368', '307369', '307370', '307371',\n",
       "        '307372', '307374', '307376', '307378', '307380', '307382',\n",
       "        '307384', '307386', '307388', '307390', '307392', '307394',\n",
       "        '307396', '307398', '307400', '307402', '307404', '307406',\n",
       "        '307408', '307410', '307412', '307414', '307416', '307418',\n",
       "        '307420', '307422', '307424', '307426', '307427', '307428',\n",
       "        '307429', '307430', '307432', '307433', '307435', '307436',\n",
       "        '307437', '307439', '307440', '307441', '307443', '307445',\n",
       "        '307447', '307449', '307450', '307451', '307452', '307453',\n",
       "        '307454', '307455', '307456', '307457', '307458', '307459',\n",
       "        '307460', '307461', '307463', '307464', '307466', '307468',\n",
       "        '307470', '307471', '307472', '307473', '307474', '307475',\n",
       "        '307477', '307478', '307479', '307481', '307483', '307484',\n",
       "        '307486', '307488', '307490', '307492', '307496', '307498',\n",
       "        '307500', '307502', '307504', '307506', '307507', '307508',\n",
       "        '307509', '307511', '307513', '307514', '307515', '307517',\n",
       "        '307519', '307520', '307522', '307523', '307525', '307527',\n",
       "        '307528', '307530', '307531', '307533', '307535', '307536',\n",
       "        '307537', '307538', '307539', '307541', '307543', '307545',\n",
       "        '307547', '307549', '307551', '307553', '307555', '307557',\n",
       "        '307559', '307561', '307562', '307563', '307564', '307565',\n",
       "        '307566', '307567', '307568', '307569', '307570', '307571',\n",
       "        '307572', '307573', '307575', '307576', '307578', '307579',\n",
       "        '307580', '307582', '307583', '307585', '307587', '307589',\n",
       "        '307591', '307593', '307595', '307597', '307598', '307599',\n",
       "        '307600', '307601', '307602', '307603', '307604', '307605',\n",
       "        '307607', '307608', '307610', '307612', '307614', '307616',\n",
       "        '307618', '307620', '307622', '307624', '307626', '307628',\n",
       "        '307630', '307632', '307634', '307636', '307639', '307640',\n",
       "        '307641', '307643', '307644', '307646', '307647', '307649',\n",
       "        '307650', '307651', '307653', '307655', '307656', '307657',\n",
       "        '307659', '307661', '307662', '307664', '307666', '307668',\n",
       "        '307670', '307672', '307674', '307676', '307678', '307680',\n",
       "        '307682', '307683', '307685', '307686', '307687', '307688',\n",
       "        '307689', '307690', '307691', '307692', '307694', '307696',\n",
       "        '307698', '307700', '307702', '307704', '307706', '307708',\n",
       "        '307710', '307712', '307714', '307715', '307716', '307718',\n",
       "        '307720', '307722', '307724', '307726', '307728', '307730',\n",
       "        '307981', '307983', '308001', '308021', '308061', '308080',\n",
       "        '308101', '308140', '308141', '308181', '308241', '308341',\n",
       "        '308361', '308381', '308421', '308441', '308490', '308492',\n",
       "        '308521', '308541', '308561', '308600', '308620', '308660',\n",
       "        '308681', '308721', '308741', '32500', '32910', '34180', '34510',\n",
       "        '34580', '34730', '35050', '36500', '38350', '38560', '50115',\n",
       "        '50123', '50204', '50213', '50462'], dtype=object),\n",
       " array([1, 1, 1, 1, 1, 1, 1, 1, 1, 1, 1, 1, 1, 1, 1, 1, 1, 1, 1, 1, 1, 1,\n",
       "        1, 1, 1, 1, 1, 1, 1, 1, 1, 1, 1, 1, 1, 1, 1, 1, 1, 1, 1, 1, 1, 1,\n",
       "        1, 1, 1, 1, 1, 1, 1, 1, 1, 1, 1, 1, 1, 1, 1, 1, 1, 1, 1, 1, 1, 1,\n",
       "        1, 1, 1, 1, 1, 1, 1, 1, 1, 1, 1, 1, 1, 1, 1, 1, 1, 1, 1, 1, 1, 1,\n",
       "        1, 1, 1, 1, 1, 1, 1, 1, 1, 1, 1, 1, 1, 1, 1, 1, 1, 1, 1, 1, 1, 1,\n",
       "        1, 1, 1, 1, 1, 1, 1, 1, 1, 1, 1, 1, 1, 1, 1, 1, 1, 1, 1, 1, 1, 1,\n",
       "        1, 1, 1, 1, 1, 1, 1, 1, 1, 1, 1, 1, 1, 1, 1, 1, 1, 1, 1, 1, 1, 1,\n",
       "        1, 1, 1, 1, 1, 1, 1, 1, 1, 1, 1, 1, 1, 1, 1, 1, 1, 1, 1, 1, 1, 1,\n",
       "        1, 1, 1, 1, 1, 1, 1, 1, 1, 1, 1, 1, 1, 1, 1, 1, 1, 1, 1, 1, 1, 1,\n",
       "        1, 1, 1, 1, 1, 1, 1, 1, 1, 1, 1, 1, 1, 1, 1, 1, 1, 1, 1, 1, 1, 1,\n",
       "        1, 1, 1, 1, 1, 1, 1, 1, 1, 1, 1, 1, 1, 1, 1, 1, 1, 1, 1, 1, 1, 1,\n",
       "        1, 1, 1, 1, 1, 1, 1, 1, 1, 1, 1, 1, 1, 1, 1, 1, 1, 1, 1, 1, 1, 1,\n",
       "        1, 1, 1, 1, 1, 1, 1, 1, 1, 1, 1, 1, 1, 1, 1, 1, 1, 1, 1, 1, 1, 1,\n",
       "        1, 1, 1, 1, 1, 1, 1, 1, 1, 1, 1, 1, 1, 1, 1, 1, 1, 1, 1, 1, 1, 1,\n",
       "        1, 1, 1, 1, 1, 1, 1, 1, 1, 1, 1, 1, 1, 1, 1, 1, 1, 1, 1, 1, 1, 1,\n",
       "        1, 1, 1, 1, 1, 1, 1, 1, 1, 1, 1, 1, 1, 1, 1, 1, 1, 1, 1, 1, 1, 1,\n",
       "        1, 1, 1, 1, 1, 1, 1, 1, 1, 1, 1, 1, 1, 1, 1, 1, 1, 1, 1, 1, 1, 1,\n",
       "        1, 1, 1, 1, 1, 1, 1, 1, 1, 1, 1, 1, 1, 1, 1, 1, 1, 1, 1, 1, 1, 1,\n",
       "        1, 1, 1, 1, 1, 1, 1, 1, 1, 1, 1, 1, 1, 1, 1, 1, 1, 1, 1, 1, 1, 1,\n",
       "        1, 1, 1, 1, 1, 1, 1, 1, 1, 1, 1, 1, 1, 1, 1, 1, 1, 1, 1, 1, 1, 1,\n",
       "        1, 1, 1, 1, 1, 1, 1, 1, 1, 1, 1, 1, 1, 1, 1, 1, 1, 1, 1, 1, 1, 1,\n",
       "        1, 1, 1, 1, 1, 1, 1, 1, 1, 1, 1, 1, 1, 1, 1, 1, 1, 1, 1, 1, 1, 1,\n",
       "        1, 1, 1, 1, 1, 1, 1, 1, 1, 1, 1, 1, 1, 1, 1, 1, 1, 1, 1, 1, 1, 1,\n",
       "        1, 1, 1, 1, 1, 1, 1, 1, 1, 1, 1, 1, 1, 1, 1, 1, 1, 1, 1, 1, 1, 1,\n",
       "        1, 1, 1, 1, 1, 1, 1, 1, 1, 1, 1, 1, 1, 1, 1, 1, 1, 1, 1, 1, 1, 1,\n",
       "        1, 1, 1, 1, 1, 1, 1, 1, 1, 1, 1, 1, 1, 1, 1, 1, 1, 1, 1, 1, 1, 1,\n",
       "        1, 1, 1, 1, 1, 1, 1, 1, 1, 1, 1, 1, 1, 1, 1, 1, 1, 1, 1, 1, 1, 1,\n",
       "        1, 1, 1, 1, 1, 1, 1, 1, 1, 1, 1, 1, 1, 1, 1, 1, 1, 1, 1, 1, 1, 1,\n",
       "        1, 1, 1, 1, 1, 1, 1, 1, 1, 1, 1, 1, 1, 1, 1, 1, 1, 1, 1, 1, 1, 1,\n",
       "        1, 1, 1, 1, 1, 1, 1, 1, 1, 1, 1, 1, 1, 1, 1, 1, 1, 1, 1, 1, 1, 1]))"
      ]
     },
     "execution_count": 86,
     "metadata": {},
     "output_type": "execute_result"
    }
   ],
   "source": [
    "np.unique(merged['id'], return_counts= True)"
   ]
  },
  {
   "cell_type": "code",
   "execution_count": 101,
   "metadata": {},
   "outputs": [],
   "source": [
    "m = np.array(merged)\n",
    "m[0, 3:]\n",
    "voti_dep1 = m[0, 3:]\n",
    "voti_dep2 = m[1, 3:]"
   ]
  },
  {
   "cell_type": "code",
   "execution_count": 103,
   "metadata": {},
   "outputs": [
    {
     "name": "stdout",
     "output_type": "stream",
     "text": [
      "['0' '0']\n"
     ]
    }
   ],
   "source": [
    "print(voti_dep1)"
   ]
  },
  {
   "cell_type": "code",
   "execution_count": null,
   "metadata": {},
   "outputs": [],
   "source": [
    "numero_votazioni = 2  #numero di leggi che prendiamo in considerazione\n",
    "\n",
    "def similarita(voti_dep1, voti_dep2):\n",
    "    uguali = np.sum((voti_dep1 == voti_dep2)) # volte in cui hanno votato la stessa cosa\n",
    "entrambi_assenti = np.sum((voti_dep1 == voti_dep2) == (voti_dep1 == 0)) # volte in cui non hanno votato entrambi"
   ]
  },
  {
   "cell_type": "code",
   "execution_count": 102,
   "metadata": {},
   "outputs": [
    {
     "data": {
      "text/plain": [
       "1"
      ]
     },
     "execution_count": 102,
     "metadata": {},
     "output_type": "execute_result"
    }
   ],
   "source": [
    "uguali = np.sum((voti_dep1 == voti_dep2)) # volte in cui hanno votato la stessa cosa\n",
    "entrambi_assenti = np.sum((voti_dep1 == voti_dep2) == (voti_dep1 == 0)) # volte in cui non hanno votato entrambi\n",
    "numero_totale_votazioni = 2\n",
    "sim = uguali/(numero_totale_votazioni-entrambi_assenti)\n"
   ]
  }
 ],
 "metadata": {
  "kernelspec": {
   "display_name": "sna",
   "language": "python",
   "name": "sna"
  },
  "language_info": {
   "codemirror_mode": {
    "name": "ipython",
    "version": 3
   },
   "file_extension": ".py",
   "mimetype": "text/x-python",
   "name": "python",
   "nbconvert_exporter": "python",
   "pygments_lexer": "ipython3",
   "version": "3.8.10"
  },
  "orig_nbformat": 4
 },
 "nbformat": 4,
 "nbformat_minor": 2
}
