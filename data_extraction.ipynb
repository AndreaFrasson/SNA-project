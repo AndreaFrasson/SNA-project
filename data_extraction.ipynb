{
 "cells": [
  {
   "cell_type": "code",
   "execution_count": 32,
   "metadata": {},
   "outputs": [],
   "source": [
    "from SPARQLWrapper import SPARQLWrapper, JSON\n",
    "from datetime import datetime\n",
    "import pandas as pd\n",
    "import numpy as np"
   ]
  },
  {
   "attachments": {},
   "cell_type": "markdown",
   "metadata": {},
   "source": [
    "connect to db"
   ]
  },
  {
   "cell_type": "code",
   "execution_count": 33,
   "metadata": {},
   "outputs": [],
   "source": [
    "sparql = SPARQLWrapper('https://dati.camera.it/sparql')"
   ]
  },
  {
   "attachments": {},
   "cell_type": "markdown",
   "metadata": {},
   "source": [
    "Create dataframe of the deputati from a legislation"
   ]
  },
  {
   "cell_type": "code",
   "execution_count": 34,
   "metadata": {},
   "outputs": [],
   "source": [
    "dep = pd.read_csv('data/18esima_Leg/dep_18.csv')[['persona', 'nomeGruppo', 'nome', 'cognome']]\n",
    "a = dep['cognome']+ ' ' + dep['nome']\n",
    "dep['Parlamentare'] = a\n",
    "dep.drop(['nome', 'cognome'], axis = 1, inplace= True)\n",
    "\n",
    "a = []\n",
    "for i in range(dep.shape[0]):\n",
    "    a.append(dep['persona'][i][39:])\n",
    "\n",
    "dep['id'] = a\n",
    "dep.drop('persona', inplace= True, axis = 1)\n",
    "\n",
    "p = []\n",
    "dat = []\n",
    "for i in dep['nomeGruppo']:\n",
    "    e = i.split()\n",
    "    p.append(e[-2][1:-1])\n",
    "    d = e[-1].replace(')', '')\n",
    "    dat.append(datetime.strptime(d[-10:], '%d.%m.%Y'))\n",
    "\n",
    "dep['Partito'] = p\n",
    "dep['dataIngresso'] = dat\n",
    "dep.drop('nomeGruppo', axis = 1, inplace= True)\n",
    "\n",
    "final_df = pd.DataFrame(columns= dep.columns)\n",
    "\n",
    "for i in np.unique(dep['id']):\n",
    "    if len(dep[dep['id'] == i]) < 2:\n",
    "        final_df = pd.concat([final_df, dep[dep['id'] == i]])\n",
    "    else:\n",
    "        duplicate = dep[dep['id'] == i]\n",
    "        final_df = pd.concat([final_df, duplicate.head(1)])\n"
   ]
  },
  {
   "cell_type": "code",
   "execution_count": 35,
   "metadata": {},
   "outputs": [],
   "source": [
    "sparql.setReturnFormat(JSON)\n",
    "\n",
    "leg = 18\n",
    "\n",
    "# deputati of a specific legislation\n",
    "sparql.setQuery(\"\"\"\n",
    "select distinct ?votazione ?titolo ?numeroVotazione ?cognome ?nome ?espressione ?infoAssenza ?deputato where {\n",
    "## prima votazione del 8 febbraio 2022\n",
    "?votazione a ocd:votazione;\n",
    "   dc:date '20220208';\n",
    "   rdfs:label ?titolo;\n",
    "   dc:description ?descrizione;\n",
    "   dc:identifier ?numeroVotazione. FILTER(regex(?numeroVotazione,'001$'))\n",
    "\n",
    "\n",
    "## voti espressi\n",
    "?voto a ocd:voto;\n",
    "   ocd:rif_votazione ?votazione;\n",
    "   dc:type ?espressione;\n",
    "   ocd:rif_deputato ?deputato.\n",
    "OPTIONAL{?voto dc:description ?infoAssenza}\n",
    "\n",
    "\n",
    "## info deputato\n",
    "?deputato foaf:surname ?cognome; foaf:firstName ?nome  \n",
    "\n",
    "\n",
    "} ORDER BY ?cognome\n",
    " \n",
    "\"\"\"\n",
    ")\n"
   ]
  },
  {
   "cell_type": "code",
   "execution_count": 36,
   "metadata": {},
   "outputs": [],
   "source": [
    "try:\n",
    "    ret = sparql.queryAndConvert()\n",
    "except Exception as e:\n",
    "    print(e)"
   ]
  },
  {
   "cell_type": "code",
   "execution_count": 37,
   "metadata": {},
   "outputs": [],
   "source": [
    "res = ret[\"results\"][\"bindings\"]"
   ]
  },
  {
   "cell_type": "code",
   "execution_count": 48,
   "metadata": {},
   "outputs": [],
   "source": [
    "dep = []\n",
    "vot = []\n",
    "for i in res:\n",
    "    dep.append((i.get('deputato')).get('value')[40:46])\n",
    "    vot.append((i.get('espressione')).get('value'))\n",
    "\n",
    "    \n",
    "    "
   ]
  },
  {
   "cell_type": "code",
   "execution_count": 49,
   "metadata": {},
   "outputs": [
    {
     "data": {
      "text/html": [
       "<div>\n",
       "<style scoped>\n",
       "    .dataframe tbody tr th:only-of-type {\n",
       "        vertical-align: middle;\n",
       "    }\n",
       "\n",
       "    .dataframe tbody tr th {\n",
       "        vertical-align: top;\n",
       "    }\n",
       "\n",
       "    .dataframe thead th {\n",
       "        text-align: right;\n",
       "    }\n",
       "</style>\n",
       "<table border=\"1\" class=\"dataframe\">\n",
       "  <thead>\n",
       "    <tr style=\"text-align: right;\">\n",
       "      <th></th>\n",
       "      <th>Deputato</th>\n",
       "      <th>Voto1</th>\n",
       "    </tr>\n",
       "  </thead>\n",
       "  <tbody>\n",
       "    <tr>\n",
       "      <th>0</th>\n",
       "      <td>d307538_18</td>\n",
       "      <td>Favorevole</td>\n",
       "    </tr>\n",
       "    <tr>\n",
       "      <th>1</th>\n",
       "      <td>d307559_18</td>\n",
       "      <td>Non ha votato</td>\n",
       "    </tr>\n",
       "    <tr>\n",
       "      <th>2</th>\n",
       "      <td>d307394_18</td>\n",
       "      <td>Favorevole</td>\n",
       "    </tr>\n",
       "    <tr>\n",
       "      <th>3</th>\n",
       "      <td>d307119_18</td>\n",
       "      <td>Favorevole</td>\n",
       "    </tr>\n",
       "    <tr>\n",
       "      <th>4</th>\n",
       "      <td>d307114_18</td>\n",
       "      <td>Favorevole</td>\n",
       "    </tr>\n",
       "    <tr>\n",
       "      <th>...</th>\n",
       "      <td>...</td>\n",
       "      <td>...</td>\n",
       "    </tr>\n",
       "    <tr>\n",
       "      <th>623</th>\n",
       "      <td>d307143_18</td>\n",
       "      <td>Favorevole</td>\n",
       "    </tr>\n",
       "    <tr>\n",
       "      <th>624</th>\n",
       "      <td>d307616_18</td>\n",
       "      <td>Non ha votato</td>\n",
       "    </tr>\n",
       "    <tr>\n",
       "      <th>625</th>\n",
       "      <td>d305598_18</td>\n",
       "      <td>Favorevole</td>\n",
       "    </tr>\n",
       "    <tr>\n",
       "      <th>626</th>\n",
       "      <td>d307578_18</td>\n",
       "      <td>Favorevole</td>\n",
       "    </tr>\n",
       "    <tr>\n",
       "      <th>627</th>\n",
       "      <td>d307142_18</td>\n",
       "      <td>Favorevole</td>\n",
       "    </tr>\n",
       "  </tbody>\n",
       "</table>\n",
       "<p>628 rows × 2 columns</p>\n",
       "</div>"
      ],
      "text/plain": [
       "       Deputato          Voto1\n",
       "0    d307538_18     Favorevole\n",
       "1    d307559_18  Non ha votato\n",
       "2    d307394_18     Favorevole\n",
       "3    d307119_18     Favorevole\n",
       "4    d307114_18     Favorevole\n",
       "..          ...            ...\n",
       "623  d307143_18     Favorevole\n",
       "624  d307616_18  Non ha votato\n",
       "625  d305598_18     Favorevole\n",
       "626  d307578_18     Favorevole\n",
       "627  d307142_18     Favorevole\n",
       "\n",
       "[628 rows x 2 columns]"
      ]
     },
     "execution_count": 49,
     "metadata": {},
     "output_type": "execute_result"
    }
   ],
   "source": [
    "pd.DataFrame([dep,vot], index = ['Deputato', 'Voto1']).T"
   ]
  },
  {
   "cell_type": "code",
   "execution_count": 50,
   "metadata": {},
   "outputs": [
    {
     "data": {
      "text/plain": [
       "array(['Astensione', 'Contrario', 'Favorevole', 'Non ha votato'],\n",
       "      dtype='<U13')"
      ]
     },
     "execution_count": 50,
     "metadata": {},
     "output_type": "execute_result"
    }
   ],
   "source": [
    "np.unique(vot)"
   ]
  }
 ],
 "metadata": {
  "kernelspec": {
   "display_name": "Python 3",
   "language": "python",
   "name": "python3"
  },
  "language_info": {
   "codemirror_mode": {
    "name": "ipython",
    "version": 3
   },
   "file_extension": ".py",
   "mimetype": "text/x-python",
   "name": "python",
   "nbconvert_exporter": "python",
   "pygments_lexer": "ipython3",
   "version": "3.10.11"
  },
  "orig_nbformat": 4
 },
 "nbformat": 4,
 "nbformat_minor": 2
}
